{
 "cells": [
  {
   "cell_type": "markdown",
   "metadata": {},
   "source": [
    "### Below is a demo to predict stock trend using LSTM\n"
   ]
  },
  {
   "cell_type": "code",
   "execution_count": null,
   "metadata": {},
   "outputs": [],
   "source": [
    "import myCrawler as crawler\n",
    "\n",
    "url = 'https://explorer-web.api.btc.com/v1/eth/miner/stats/list?time_range=4&page=1&size=20'\n",
    "r = crawler.myRequests(url).json()"
   ]
  },
  {
   "cell_type": "code",
   "execution_count": null,
   "metadata": {},
   "outputs": [],
   "source": [
    "def lengthOfLongestSubstring(s):\n",
    "    \"\"\"\n",
    "    :type s: str\n",
    "    :rtype: int\n",
    "    \"\"\"\n",
    "    max_length = 0             \n",
    "    for i in range(len(s)): \n",
    "        tmp = set()\n",
    "        for j in range(i, len(s)):\n",
    "            tmp.add(s[j])\n",
    "            if len(tmp) > max_length:\n",
    "                max_length = len(tmp)\n",
    "            if len(tmp) != j-i+1:\n",
    "                break                \n",
    "            \n",
    "    return max_length"
   ]
  },
  {
   "cell_type": "code",
   "execution_count": null,
   "metadata": {},
   "outputs": [],
   "source": [
    "def rewards(init_fund, invest_limit, y_return, period):\n",
    "    if period == 1:\n",
    "        return init_fund*(1+y_return)+invest_limit\n",
    "    else:\n",
    "        return rewards(init_fund, invest_limit, y_return, period-1)*(1+y_return)+invest_limit"
   ]
  },
  {
   "cell_type": "code",
   "execution_count": null,
   "metadata": {},
   "outputs": [],
   "source": [
    "rewards(20, 10, 0.25, 5)"
   ]
  },
  {
   "cell_type": "markdown",
   "metadata": {},
   "source": [
    "#### 1.0 Data preprocess for lstm"
   ]
  },
  {
   "cell_type": "code",
   "execution_count": 1,
   "metadata": {},
   "outputs": [
    {
     "name": "stderr",
     "output_type": "stream",
     "text": [
      "/Users/li/.pyenv/versions/3.5.2/Python.framework/Versions/3.5/lib/python3.5/importlib/_bootstrap.py:222: RuntimeWarning: numpy.dtype size changed, may indicate binary incompatibility. Expected 96, got 88\n",
      "  return f(*args, **kwds)\n",
      "/Users/li/.pyenv/versions/3.5.2/Python.framework/Versions/3.5/lib/python3.5/importlib/_bootstrap.py:222: RuntimeWarning: numpy.dtype size changed, may indicate binary incompatibility. Expected 96, got 88\n",
      "  return f(*args, **kwds)\n"
     ]
    },
    {
     "data": {
      "text/html": [
       "<div>\n",
       "<style scoped>\n",
       "    .dataframe tbody tr th:only-of-type {\n",
       "        vertical-align: middle;\n",
       "    }\n",
       "\n",
       "    .dataframe tbody tr th {\n",
       "        vertical-align: top;\n",
       "    }\n",
       "\n",
       "    .dataframe thead th {\n",
       "        text-align: right;\n",
       "    }\n",
       "</style>\n",
       "<table border=\"1\" class=\"dataframe\">\n",
       "  <thead>\n",
       "    <tr style=\"text-align: right;\">\n",
       "      <th></th>\n",
       "      <th>Date</th>\n",
       "      <th>Open</th>\n",
       "      <th>High</th>\n",
       "      <th>Low</th>\n",
       "      <th>Close</th>\n",
       "      <th>Adj Close</th>\n",
       "      <th>Volume</th>\n",
       "    </tr>\n",
       "  </thead>\n",
       "  <tbody>\n",
       "    <tr>\n",
       "      <th>23084</th>\n",
       "      <td>2019-11-25</td>\n",
       "      <td>3117.439941</td>\n",
       "      <td>3133.830078</td>\n",
       "      <td>3117.439941</td>\n",
       "      <td>3133.639893</td>\n",
       "      <td>3133.639893</td>\n",
       "      <td>3511530000</td>\n",
       "    </tr>\n",
       "    <tr>\n",
       "      <th>23085</th>\n",
       "      <td>2019-11-26</td>\n",
       "      <td>3134.850098</td>\n",
       "      <td>3142.689941</td>\n",
       "      <td>3131.000000</td>\n",
       "      <td>3140.520020</td>\n",
       "      <td>3140.520020</td>\n",
       "      <td>4595590000</td>\n",
       "    </tr>\n",
       "    <tr>\n",
       "      <th>23086</th>\n",
       "      <td>2019-11-27</td>\n",
       "      <td>3145.489990</td>\n",
       "      <td>3154.260010</td>\n",
       "      <td>3143.409912</td>\n",
       "      <td>3153.629883</td>\n",
       "      <td>3153.629883</td>\n",
       "      <td>3033090000</td>\n",
       "    </tr>\n",
       "    <tr>\n",
       "      <th>23087</th>\n",
       "      <td>2019-11-29</td>\n",
       "      <td>3147.179932</td>\n",
       "      <td>3150.300049</td>\n",
       "      <td>3139.340088</td>\n",
       "      <td>3140.979980</td>\n",
       "      <td>3140.979980</td>\n",
       "      <td>174302000000</td>\n",
       "    </tr>\n",
       "    <tr>\n",
       "      <th>23088</th>\n",
       "      <td>2019-12-02</td>\n",
       "      <td>3143.850098</td>\n",
       "      <td>3144.310059</td>\n",
       "      <td>3110.780029</td>\n",
       "      <td>3113.870117</td>\n",
       "      <td>3113.870117</td>\n",
       "      <td>3268740000</td>\n",
       "    </tr>\n",
       "  </tbody>\n",
       "</table>\n",
       "</div>"
      ],
      "text/plain": [
       "             Date         Open         High          Low        Close  \\\n",
       "23084  2019-11-25  3117.439941  3133.830078  3117.439941  3133.639893   \n",
       "23085  2019-11-26  3134.850098  3142.689941  3131.000000  3140.520020   \n",
       "23086  2019-11-27  3145.489990  3154.260010  3143.409912  3153.629883   \n",
       "23087  2019-11-29  3147.179932  3150.300049  3139.340088  3140.979980   \n",
       "23088  2019-12-02  3143.850098  3144.310059  3110.780029  3113.870117   \n",
       "\n",
       "         Adj Close        Volume  \n",
       "23084  3133.639893    3511530000  \n",
       "23085  3140.520020    4595590000  \n",
       "23086  3153.629883    3033090000  \n",
       "23087  3140.979980  174302000000  \n",
       "23088  3113.870117    3268740000  "
      ]
     },
     "execution_count": 1,
     "metadata": {},
     "output_type": "execute_result"
    }
   ],
   "source": [
    "import pandas as pd\n",
    "\n",
    "df = pd.read_csv('/Users/li/Downloads/sp500.csv')\n",
    "df = df.sort_values(by = 'Date',ascending=True)\n",
    "df = df.reset_index(drop=True)\n",
    "df.tail()"
   ]
  },
  {
   "cell_type": "code",
   "execution_count": 2,
   "metadata": {},
   "outputs": [
    {
     "data": {
      "text/plain": [
       "[<matplotlib.lines.Line2D at 0x118675470>]"
      ]
     },
     "execution_count": 2,
     "metadata": {},
     "output_type": "execute_result"
    }
   ],
   "source": [
    "import matplotlib.pyplot as plt\n",
    "\n",
    "plt.figure(figsize=(18,8))\n",
    "plt.plot(pd.to_datetime(df['Date']), df['Close'])"
   ]
  },
  {
   "cell_type": "code",
   "execution_count": 3,
   "metadata": {},
   "outputs": [],
   "source": [
    "df[-10000:].to_csv('/Users/li/Downloads/sp500_1.csv')"
   ]
  },
  {
   "cell_type": "code",
   "execution_count": 4,
   "metadata": {},
   "outputs": [],
   "source": [
    "import numpy as np\n",
    "\n",
    "class DataLoader():\n",
    "    \"\"\"A class for loading and transforming data for the lstm model\"\"\"\n",
    "\n",
    "    def __init__(self, filename, split, cols):\n",
    "        dataframe = pd.read_csv(filename)\n",
    "        i_split = int(len(dataframe) * split)\n",
    "        self.data_train = dataframe.get(cols).values[:i_split]\n",
    "        self.data_test  = dataframe.get(cols).values[i_split:]\n",
    "        self.len_train  = len(self.data_train)\n",
    "        self.len_test   = len(self.data_test)\n",
    "        self.len_train_windows = None\n",
    "        \n",
    "    def y_multiclass(self, x): \n",
    "        '''相对于窗口第一天涨幅进行分类'''\n",
    "        pp = x*100\n",
    "        if pp < -10:\n",
    "            return 0\n",
    "        elif pp < -5:\n",
    "            return 1\n",
    "        elif pp < 0:\n",
    "            return 2\n",
    "        elif pp < 5:\n",
    "            return 3\n",
    "        elif pp < 10:\n",
    "            return 4\n",
    "        else:\n",
    "            return 5 \n",
    "\n",
    "    def get_test_data(self, seq_len, normalise):\n",
    "        '''\n",
    "        Create x, y test data windows\n",
    "        Warning: batch method, not generative, make sure you have enough memory to\n",
    "        load data, otherwise reduce size of the training split.\n",
    "        '''\n",
    "        data_windows = []\n",
    "        for i in range(self.len_test - seq_len):\n",
    "            data_windows.append(self.data_test[i:i+seq_len])\n",
    "\n",
    "        data_windows = np.array(data_windows).astype(float)\n",
    "        data_windows = self.normalise_windows(data_windows, single_window=False) if normalise else data_windows\n",
    "        \n",
    "        x = data_windows[:, :-1]\n",
    "        y = data_windows[:, -1, [0]]\n",
    "        y = [[self.y_multiclass(ele[0])] for ele in y]\n",
    "        return x,y\n",
    "\n",
    "    def get_train_data(self, seq_len, normalise):\n",
    "        '''\n",
    "        Create x, y train data windows\n",
    "        Warning: batch method, not generative, make sure you have enough memory to\n",
    "        load data, otherwise use generate_training_window() method.\n",
    "        '''\n",
    "        data_x = []\n",
    "        data_y = []\n",
    "        for i in range(self.len_train - seq_len):\n",
    "            x, y = self._next_window(i, seq_len, normalise)\n",
    "            data_x.append(x)\n",
    "            data_y.append(y)\n",
    "        return np.array(data_x), np.array(data_y)\n",
    "\n",
    "    def generate_train_batch(self, seq_len, batch_size, normalise):\n",
    "        '''Yield a generator of training data from filename on given list of cols split for train/test'''\n",
    "        i = 0\n",
    "        while i < (self.len_train - seq_len):\n",
    "            x_batch = []\n",
    "            y_batch = []\n",
    "            for b in range(batch_size):\n",
    "                if i >= (self.len_train - seq_len):\n",
    "                    # stop-condition for a smaller final batch if data doesn't divide evenly\n",
    "                    yield np.array(x_batch), np.array(y_batch)\n",
    "                    i = 0\n",
    "                x, y = self._next_window(i, seq_len, normalise)\n",
    "                x_batch.append(x)\n",
    "                y_batch.append(y)\n",
    "                i += 1\n",
    "            yield np.array(x_batch), np.array(y_batch)\n",
    "\n",
    "    def _next_window(self, i, seq_len, normalise):\n",
    "        '''Generates the next data window from the given index location i'''\n",
    "        window = self.data_train[i:i+seq_len]\n",
    "        window = self.normalise_windows(window, single_window=True)[0] if normalise else window\n",
    "        x = window[:-1]\n",
    "        y = window[-1, [0]]\n",
    "        \n",
    "        y = [self.y_multiclass(ele) for ele in y]\n",
    "        return x, y\n",
    "\n",
    "    def normalise_windows(self, window_data, single_window=False):\n",
    "        '''Normalise window with a base value of zero'''\n",
    "        normalised_data = []\n",
    "        window_data = [window_data] if single_window else window_data\n",
    "        for window in window_data:\n",
    "            \n",
    "            normalised_window = []\n",
    "            for col_i in range(window.shape[1]):\n",
    "                normalised_col = [((float(p) / float(window[0, col_i])) - 1) for p in window[:, col_i]]\n",
    "                \n",
    "                normalised_window.append(normalised_col)\n",
    "            \n",
    "            normalised_window = np.array(normalised_window).T # reshape and transpose array back into original multidimensional format\n",
    "            normalised_data.append(normalised_window)\n",
    "        return np.array(normalised_data)"
   ]
  },
  {
   "cell_type": "code",
   "execution_count": 5,
   "metadata": {},
   "outputs": [],
   "source": [
    "cols = ['Close','Open','High','Low','Volume']\n",
    "data = DataLoader(\"/Users/li/Downloads/sp500_1.csv\",0.85, cols)\n",
    "seq_len = 20\n",
    "batch_size = 50\n",
    "gtdata = data.generate_train_batch(seq_len,batch_size,False)"
   ]
  },
  {
   "cell_type": "markdown",
   "metadata": {},
   "source": [
    "#### 2.0 LSTM model create"
   ]
  },
  {
   "cell_type": "code",
   "execution_count": 9,
   "metadata": {},
   "outputs": [
    {
     "name": "stdout",
     "output_type": "stream",
     "text": [
      "_________________________________________________________________\n",
      "Layer (type)                 Output Shape              Param #   \n",
      "=================================================================\n",
      "lstm_7 (LSTM)                (None, 19, 10)            640       \n",
      "_________________________________________________________________\n",
      "dropout_5 (Dropout)          (None, 19, 10)            0         \n",
      "_________________________________________________________________\n",
      "lstm_8 (LSTM)                (None, 10)                840       \n",
      "_________________________________________________________________\n",
      "dense_3 (Dense)              (None, 6)                 66        \n",
      "=================================================================\n",
      "Total params: 1,546\n",
      "Trainable params: 1,546\n",
      "Non-trainable params: 0\n",
      "_________________________________________________________________\n"
     ]
    }
   ],
   "source": [
    "from keras.layers import Dense, Activation, Dropout, LSTM, Flatten\n",
    "from keras.models import Sequential, load_model\n",
    "from keras.callbacks import EarlyStopping, ModelCheckpoint\n",
    "\n",
    "model = Sequential()\n",
    "model.add(LSTM(units=10,input_shape=(seq_len-1, len(cols)),return_sequences=True))\n",
    "model.add(Dropout(0.1))\n",
    "#model.add(LSTM(units=10,input_shape=(seq_len-1, len(cols)),return_sequences=True))\n",
    "model.add(LSTM(units=10,input_shape=(seq_len-1, len(cols)),return_sequences=False))\n",
    "#model.add(Dropout(0.1))\n",
    "\n",
    "model.add(Dense(units=6,activation='softmax'))\n",
    "#model.add(Dense(units=1,activation='linear'))\n",
    "\n",
    "# Categorical crossentropy with integer targets\n",
    "model.compile(loss='sparse_categorical_crossentropy',optimizer='adam',metrics=['accuracy']) \n",
    "\n",
    "#model.compile(loss='mse',optimizer='adam',metrics=['accuracy'])\n",
    "model.summary()"
   ]
  },
  {
   "cell_type": "code",
   "execution_count": 16,
   "metadata": {},
   "outputs": [
    {
     "name": "stdout",
     "output_type": "stream",
     "text": [
      "170\n",
      "Epoch 1/5\n",
      "170/170 [==============================] - 5s 32ms/step - loss: 0.4456 - acc: 0.8133\n",
      "Epoch 2/5\n",
      "170/170 [==============================] - 5s 30ms/step - loss: 0.4421 - acc: 0.8164\n",
      "Epoch 3/5\n",
      "170/170 [==============================] - 5s 31ms/step - loss: 0.4389 - acc: 0.8188\n",
      "Epoch 4/5\n",
      "170/170 [==============================] - 5s 30ms/step - loss: 0.4346 - acc: 0.8205\n",
      "Epoch 5/5\n",
      "170/170 [==============================] - 5s 30ms/step - loss: 0.4344 - acc: 0.8192\n"
     ]
    },
    {
     "data": {
      "text/plain": [
       "<keras.callbacks.History at 0x12aca3e48>"
      ]
     },
     "execution_count": 16,
     "metadata": {},
     "output_type": "execute_result"
    }
   ],
   "source": [
    "import math\n",
    "import os\n",
    "import datetime as dt\n",
    "\n",
    "epochs = 5\n",
    "steps_per_epoch = math.ceil((data.len_train-seq_len)/batch_size)\n",
    "print(steps_per_epoch)\n",
    "\n",
    "save_fname = os.path.join('saved_models', '%s-e%s.h5' % (dt.datetime.now().strftime('%d%m%Y-%H%M%S'), str(epochs)))\n",
    "\n",
    "callbacks = [\n",
    "    EarlyStopping(monitor='acc', patience=15),\n",
    "    ModelCheckpoint(filepath=save_fname, monitor='val_loss', save_best_only=True)]\n",
    "\n",
    "data_gen = data.generate_train_batch(seq_len, batch_size, True)\n",
    "\n",
    "model.fit_generator(\n",
    "        data_gen,\n",
    "        steps_per_epoch=steps_per_epoch,\n",
    "        epochs=epochs,\n",
    "        callbacks=callbacks\n",
    "    )\n"
   ]
  },
  {
   "cell_type": "code",
   "execution_count": 17,
   "metadata": {},
   "outputs": [],
   "source": [
    "x_test, y_test = data.get_test_data(\n",
    "        seq_len=seq_len,\n",
    "        normalise=True\n",
    "    )"
   ]
  },
  {
   "cell_type": "code",
   "execution_count": 20,
   "metadata": {},
   "outputs": [],
   "source": [
    "predictions = model.predict(x_test)"
   ]
  },
  {
   "cell_type": "code",
   "execution_count": 25,
   "metadata": {},
   "outputs": [
    {
     "name": "stdout",
     "output_type": "stream",
     "text": [
      "0.8695945945945946\n"
     ]
    }
   ],
   "source": [
    "p = 0\n",
    "for i in range(len(predictions)):\n",
    "    if np.argmax(predictions[i]) == y_test[i][0]:\n",
    "        p += 1\n",
    "print(p*1./len(predictions))"
   ]
  },
  {
   "cell_type": "code",
   "execution_count": 31,
   "metadata": {},
   "outputs": [
    {
     "data": {
      "text/plain": [
       "[<matplotlib.lines.Line2D at 0x1196d3358>,\n",
       " <matplotlib.lines.Line2D at 0x1196d33c8>]"
      ]
     },
     "execution_count": 31,
     "metadata": {},
     "output_type": "execute_result"
    },
    {
     "data": {
      "image/png": "[encoded data removed]",
      "text/plain": [
       "<Figure size 1296x576 with 1 Axes>"
      ]
     },
     "metadata": {},
     "output_type": "display_data"
    }
   ],
   "source": [
    "plt.figure(figsize=(18,8))\n",
    "\n",
    "plt.plot([i for i in range(len(predictions))],[np.argmax(predictions[i]) for i in range(len(predictions))],'r',\n",
    "        [i for i in range(len(predictions))],[y_test[i][0] for i in range(len(y_test))],'g',alpha=0.6)"
   ]
  },
  {
   "cell_type": "code",
   "execution_count": 34,
   "metadata": {},
   "outputs": [
    {
     "data": {
      "text/plain": [
       "19.665530232633095"
      ]
     },
     "execution_count": 34,
     "metadata": {},
     "output_type": "execute_result"
    }
   ],
   "source": [
    "np.log2(831600)"
   ]
  },
  {
   "cell_type": "code",
   "execution_count": null,
   "metadata": {},
   "outputs": [],
   "source": []
  }
 ],
 "metadata": {
  "kernelspec": {
   "display_name": "Python 3",
   "language": "python",
   "name": "python3"
  },
  "language_info": {
   "codemirror_mode": {
    "name": "ipython",
    "version": 3
   },
   "file_extension": ".py",
   "mimetype": "text/x-python",
   "name": "python",
   "nbconvert_exporter": "python",
   "pygments_lexer": "ipython3",
   "version": "3.5.2"
  }
 },
 "nbformat": 4,
 "nbformat_minor": 2
}
